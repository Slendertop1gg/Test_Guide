{
  "nbformat": 4,
  "nbformat_minor": 0,
  "metadata": {
    "colab": {
      "provenance": [],
      "include_colab_link": true
    },
    "kernelspec": {
      "name": "python3",
      "display_name": "Python 3"
    },
    "language_info": {
      "name": "python"
    }
  },
  "cells": [
    {
      "cell_type": "markdown",
      "metadata": {
        "id": "view-in-github",
        "colab_type": "text"
      },
      "source": [
        "<a href=\"https://colab.research.google.com/github/Slendertop1gg/Test_Guide/blob/main/%D0%9B%D0%B0%D0%B1%D0%B0_1.ipynb\" target=\"_parent\"><img src=\"https://colab.research.google.com/assets/colab-badge.svg\" alt=\"Open In Colab\"/></a>"
      ]
    },
    {
      "cell_type": "code",
      "execution_count": null,
      "metadata": {
        "id": "FnW3Xg9HXM-y"
      },
      "outputs": [],
      "source": []
    },
    {
      "cell_type": "markdown",
      "source": [
        "#Пример использования **MarkDown**\n",
        "\n",
        "\n",
        "\n",
        "\n",
        "\n",
        "---\n",
        "\n",
        "\n",
        "Необходимо выполнить:\n",
        "\n",
        "\n",
        "\n",
        "1.   Список\n",
        "2.   Рисунок\n",
        "3.   Таблица\n",
        "4.   Ссылка\n",
        "\n",
        "\n",
        "\n",
        "![Бравые ребята](https://gamemag.ru/images/cache/News/News168733/35821b8f2c-2_2780x1200.jpg)\n",
        "\n",
        "\n",
        "| Фамилия      | Имя       | Группа  |\n",
        "| -------------|:---------:| -------:|\n",
        "| Кащаев       | Егор      | ЭН1-25  |\n",
        "| Гура         | Артем     | ЭН1-25  |\n",
        "\n",
        "\n",
        "\n",
        "[Мечта всех парней в НГТУ](https://sport.nstu.ru/wp-content/uploads/2018/12/Лыжная-база-НГТУ.png)\n"
      ],
      "metadata": {
        "id": "tXsKma3OXnMy"
      }
    }
  ]
}